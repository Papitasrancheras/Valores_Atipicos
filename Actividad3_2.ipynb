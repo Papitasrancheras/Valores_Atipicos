{
  "nbformat": 4,
  "nbformat_minor": 0,
  "metadata": {
    "colab": {
      "provenance": []
    },
    "kernelspec": {
      "name": "python3",
      "display_name": "Python 3"
    },
    "language_info": {
      "name": "python"
    }
  },
  "cells": [
    {
      "cell_type": "markdown",
      "source": [
        "# Actividad3_2 Valores atípicos por dataframe "
      ],
      "metadata": {
        "id": "6kdRaBI6qe0m"
      }
    },
    {
      "cell_type": "code",
      "execution_count": 1,
      "metadata": {
        "id": "MWQESCnFqLPv"
      },
      "outputs": [],
      "source": [
        "#Importamos las librerias pandas, numpy y matplotlib respectivamente\n",
        "import pandas as pd\n",
        "import numpy as np\n",
        "import matplotlib.pyplot as plt"
      ]
    },
    {
      "cell_type": "markdown",
      "source": [
        "### Generamos los dataframes para cada año"
      ],
      "metadata": {
        "id": "oDoQUjFqrXsf"
      }
    },
    {
      "cell_type": "code",
      "source": [
        "# Leemos nuestro datset, utilizaremos los datos correspondientes a 2020\n",
        "gastos_2020 =pd.read_excel(\"Gastos y costos 20-23.xlsx\", sheet_name=\"2020\", header= 5)\n",
        "# Seleccionamos las columnas de interés\n",
        "gastos20_c = gastos_2020[[\"IMPORTE\", \"IVA\", 'RET ISR', 'RET IVA',\"TOTAL MX\", \"TOTAL SAT\"]]\n",
        "# Almacenamos las demás columnas \n",
        "# Crear una lista de las columnas que no quieres incluir\n",
        "cols_to_exclude = [\"IMPORTE\", \"IVA\", 'RET ISR', 'RET IVA',\"TOTAL MX\", \"TOTAL SAT\"]\n",
        "# Eliminar las columnas de la lista\n",
        "gastos20_e = gastos_2020.drop(cols_to_exclude, axis=1)\n",
        "\n",
        "# Leemos nuestro datset, utilizaremos los datos correspondientes a 2021\n",
        "gastos_2021 =pd.read_excel(\"Gastos y costos 20-23.xlsx\", sheet_name=\"2021\", header= 3)\n",
        "gastos21_c = gastos_2021[[\"TC\", \"IMPORTE\", \"IVA\", 'RET ISR', 'RET IVA',\"TOTAL MX\", \"TOTAL SAT\"]]\n",
        "# Crear una lista de las columnas que no quieres incluir\n",
        "cols_to_exclude = [\"TC\",\"IMPORTE\", \"IVA\", 'RET ISR', 'RET IVA',\"TOTAL MX\", \"TOTAL SAT\"]\n",
        "# Eliminar las columnas de la lista\n",
        "gastos21_e = gastos_2021.drop(cols_to_exclude, axis=1)\n",
        "\n",
        "# Leemos nuestro datset, utilizaremos los datos correspondientes a 2022\n",
        "gastos_2022 =pd.read_excel(\"Gastos y costos 20-23.xlsx\", sheet_name=\"2021\", header= 3)\n",
        "gastos22_c = gastos_2022[[\"TC\", \"IMPORTE\", \"IVA\", 'RET ISR', 'RET IVA',\"TOTAL MX\", \"TOTAL SAT\"]]\n",
        "cols_to_exclude = [\"TC\",\"IMPORTE\", \"IVA\", 'RET ISR', 'RET IVA',\"TOTAL MX\", \"TOTAL SAT\"]\n",
        "# Eliminar las columnas de la lista\n",
        "gastos22_e = gastos_2022.drop(cols_to_exclude, axis=1)\n",
        "\n",
        "# Leemos nuestro datset, utilizaremos los datos correspondientes a 2023\n",
        "gastos_2023 =pd.read_excel(\"Gastos y costos 20-23.xlsx\", sheet_name=\"2023\", header= 3)\n",
        "gastos23_c = gastos_2023[[\"TC\", \"Importe\", \"IVA\", 'RET ISR', 'RET IVA',\"TOTAL MX\", \"TOTAL SAT\"]]\n",
        "cols_to_exclude = [\"TC\", \"Importe\", \"IVA\", 'RET ISR', 'RET IVA',\"TOTAL MX\", \"TOTAL SAT\"]\n",
        "# Eliminar las columnas de la lista\n",
        "gastos23_e = gastos_2023.drop(cols_to_exclude, axis=1)"
      ],
      "metadata": {
        "id": "iZpNqyP-qoil"
      },
      "execution_count": 30,
      "outputs": []
    },
    {
      "cell_type": "markdown",
      "source": [
        "### Limpieza de valores nulos "
      ],
      "metadata": {
        "id": "q4booNXbuB1m"
      }
    },
    {
      "cell_type": "markdown",
      "source": [
        "### 2020"
      ],
      "metadata": {
        "id": "RlnRoYA6uWDD"
      }
    },
    {
      "cell_type": "code",
      "source": [
        "gastos20_c.isna().sum()\n",
        "gastos20_c.dtypes"
      ],
      "metadata": {
        "colab": {
          "base_uri": "https://localhost:8080/"
        },
        "id": "ABndDiSruuNC",
        "outputId": "085f6257-7beb-4cf3-cc30-8a07cf50ae55"
      },
      "execution_count": 39,
      "outputs": [
        {
          "output_type": "execute_result",
          "data": {
            "text/plain": [
              "IMPORTE      float64\n",
              "IVA          float64\n",
              "RET ISR      float64\n",
              "RET IVA      float64\n",
              "TOTAL MX     float64\n",
              "TOTAL SAT    float64\n",
              "dtype: object"
            ]
          },
          "metadata": {},
          "execution_count": 39
        }
      ]
    },
    {
      "cell_type": "code",
      "source": [
        "# Se identificaron \n",
        "\n",
        "# Se identificaron 34 datos nulos en la columna IMPORTE\n",
        "# Debido a que se desconoce el porque no se registró esa información, se sustituiran por el número 0\n",
        "gastos20_c[\"IMPORTE\"] = gastos20_c[\"IMPORTE\"].fillna(0)\n",
        "\n",
        "# Se identificaron 268 datos nulos en la columna IVA\n",
        "# Debido a que se desconoce el porque no se registró esa información, se sustituiran por el número 0\n",
        "gastos20_c[\"IVA\"] = gastos20_c[\"IVA\"].fillna(0)\n"
      ],
      "metadata": {
        "id": "4PYs_OWYsOQv"
      },
      "execution_count": null,
      "outputs": []
    },
    {
      "cell_type": "markdown",
      "source": [
        "### 2021"
      ],
      "metadata": {
        "id": "WyM6RqZ8vVMW"
      }
    },
    {
      "cell_type": "code",
      "source": [
        "gastos21_c.isna().sum()\n",
        "# No se encuentran nulos para este subset \n",
        "gastos21_c.dtypes"
      ],
      "metadata": {
        "colab": {
          "base_uri": "https://localhost:8080/"
        },
        "id": "VjfsUWh2vX_W",
        "outputId": "107443a2-0545-4dbc-96d8-2781856cfd33"
      },
      "execution_count": 38,
      "outputs": [
        {
          "output_type": "execute_result",
          "data": {
            "text/plain": [
              "TC           float64\n",
              "IMPORTE      float64\n",
              "IVA          float64\n",
              "RET ISR      float64\n",
              "RET IVA      float64\n",
              "TOTAL MX     float64\n",
              "TOTAL SAT    float64\n",
              "dtype: object"
            ]
          },
          "metadata": {},
          "execution_count": 38
        }
      ]
    },
    {
      "cell_type": "markdown",
      "source": [
        "### 2022"
      ],
      "metadata": {
        "id": "ulaGudm8vmD4"
      }
    },
    {
      "cell_type": "code",
      "source": [
        "gastos22_c.isna().sum()\n",
        "# No se encuentran nulos en este subset \n",
        "gastos22_c.dtypes"
      ],
      "metadata": {
        "colab": {
          "base_uri": "https://localhost:8080/"
        },
        "id": "_xRsj43cvoK4",
        "outputId": "f597063b-9e8d-4f8b-86af-eb39e24ce286"
      },
      "execution_count": 40,
      "outputs": [
        {
          "output_type": "execute_result",
          "data": {
            "text/plain": [
              "TC           float64\n",
              "IMPORTE      float64\n",
              "IVA          float64\n",
              "RET ISR      float64\n",
              "RET IVA      float64\n",
              "TOTAL MX     float64\n",
              "TOTAL SAT    float64\n",
              "dtype: object"
            ]
          },
          "metadata": {},
          "execution_count": 40
        }
      ]
    },
    {
      "cell_type": "markdown",
      "source": [
        "### 2023"
      ],
      "metadata": {
        "id": "TllwvWCPv4a9"
      }
    },
    {
      "cell_type": "code",
      "source": [
        "gastos23_c.isna().sum()\n",
        "# No se encuentran nulos en este subset \n",
        "gastos23_c.dtypes"
      ],
      "metadata": {
        "colab": {
          "base_uri": "https://localhost:8080/"
        },
        "id": "GebZj4M6v6H8",
        "outputId": "6abacc32-1513-4f27-930c-b76b1c716b9a"
      },
      "execution_count": 41,
      "outputs": [
        {
          "output_type": "execute_result",
          "data": {
            "text/plain": [
              "TC           float64\n",
              "Importe      float64\n",
              "IVA          float64\n",
              "RET ISR      float64\n",
              "RET IVA      float64\n",
              "TOTAL MX     float64\n",
              "TOTAL SAT    float64\n",
              "dtype: object"
            ]
          },
          "metadata": {},
          "execution_count": 41
        }
      ]
    },
    {
      "cell_type": "markdown",
      "source": [
        "# Eliminación de outliers "
      ],
      "metadata": {
        "id": "PPv_GAKkwRo3"
      }
    },
    {
      "cell_type": "markdown",
      "source": [
        "# 2020"
      ],
      "metadata": {
        "id": "H5y4EQ2HxVO8"
      }
    },
    {
      "cell_type": "code",
      "source": [
        "#Realizamos diagrama de caja o bigote de cada columna del dataframe\n",
        "fig = plt.figure(figsize =(15, 8))\n",
        "gastos20_c.plot(kind='box', vert=False)\n",
        "plt.title(\"Valores Atípicos del Dataframe\")\n",
        "plt.show() #dibujamos el diagrama"
      ],
      "metadata": {
        "colab": {
          "base_uri": "https://localhost:8080/",
          "height": 470
        },
        "id": "r3tZigyqxTAA",
        "outputId": "e8c5ce45-a599-48f6-8bdb-f18af5c788cf"
      },
      "execution_count": 23,
      "outputs": [
        {
          "output_type": "display_data",
          "data": {
            "text/plain": [
              "<Figure size 1500x800 with 0 Axes>"
            ]
          },
          "metadata": {}
        },
        {
          "output_type": "display_data",
          "data": {
            "text/plain": [
              "<Figure size 640x480 with 1 Axes>"
            ],
            "image/png": "[encoded data removed]"
          },
          "metadata": {}
        }
      ]
    },
    {
      "cell_type": "markdown",
      "source": [
        "### Desviación estándar "
      ],
      "metadata": {
        "id": "cb76CuPywlUW"
      }
    },
    {
      "cell_type": "code",
      "source": [
        "#Método aplicando desviación estandar. Encuentro los valores extremos\n",
        "y=gastos20_c\n",
        "Limite_Superior= y.mean() + 3*y.std()\n",
        "Limite_Inferior= y.mean() - 3*y.std()\n",
        "print(\"Limite superior permitido\", Limite_Superior)\n",
        "print(\"Limite inferior permitido\", Limite_Inferior)\n",
        "\n",
        "#Encontramos Ouliers del Dataframe\n",
        "outliers= gastos20_c[(y>Limite_Superior)|(y<Limite_Inferior)]\n",
        "outliers\n",
        "\n",
        "#Obtenemos datos y los outliers se convierten en nulos en el DataFrame\n",
        "data3= gastos20_c[(y<=Limite_Superior)&(y>=Limite_Inferior)]\n",
        "data3\n",
        "\n",
        "#Corroboramos valores nulos del dataframe4\n",
        "valores_nulos=data3.isnull().sum()\n",
        "print(valores_nulos)\n",
        "\n",
        "#Reemplazamos valores atípicos (nulos) del dataframe con \"mean\"\n",
        "#Realizamos una copia del dataframe\n",
        "data_clean_2020 = data3.copy()\n",
        "data_clean_2020 = data_clean_2020.fillna(round(data3.mean(),1))\n",
        "data_clean_2020"
      ],
      "metadata": {
        "colab": {
          "base_uri": "https://localhost:8080/",
          "height": 788
        },
        "id": "IfGYFe13wROA",
        "outputId": "24b3aee2-c2d8-484a-9db9-78739adeb7a7"
      },
      "execution_count": 24,
      "outputs": [
        {
          "output_type": "stream",
          "name": "stdout",
          "text": [
            "Limite superior permitido IMPORTE      25280.893187\n",
            "IVA           4735.794913\n",
            "RET ISR        667.271992\n",
            "RET IVA        958.239955\n",
            "TOTAL MX     28488.002843\n",
            "TOTAL SAT    33250.398514\n",
            "dtype: float64\n",
            "Limite inferior permitido IMPORTE     -18982.198145\n",
            "IVA          -3696.145310\n",
            "RET ISR       -627.750813\n",
            "RET IVA       -839.215179\n",
            "TOTAL MX    -21455.655297\n",
            "TOTAL SAT   -25762.462834\n",
            "dtype: float64\n",
            "IMPORTE      100\n",
            "IVA          323\n",
            "RET ISR       21\n",
            "RET IVA       74\n",
            "TOTAL MX      65\n",
            "TOTAL SAT     45\n",
            "dtype: int64\n"
          ]
        },
        {
          "output_type": "execute_result",
          "data": {
            "text/plain": [
              "       IMPORTE      IVA  RET ISR  RET IVA  TOTAL MX  TOTAL SAT\n",
              "0         0.00  2248.28      0.0      0.0   2248.28   16300.00\n",
              "1       490.00    78.40      0.0      0.0    568.40     568.40\n",
              "2       195.00    31.20      0.0      0.0    226.20     226.20\n",
              "3     10694.25  1711.08      0.0      0.0  12405.33   12405.33\n",
              "4         0.00   399.00      0.0      0.0      0.00       0.00\n",
              "...        ...      ...      ...      ...       ...        ...\n",
              "3337    129.79    20.21      0.0      0.0    150.00     150.00\n",
              "3338   2284.80   365.57      0.0      0.0   2650.37    2650.37\n",
              "3339    163.79    26.21      0.0      0.0    190.00     190.00\n",
              "3340      0.00     0.00      0.0      0.0      0.00       0.00\n",
              "3341  14889.29     0.00      0.0      0.0  14889.29   14889.29\n",
              "\n",
              "[3342 rows x 6 columns]"
            ],
            "text/html": [
              "\n",
              "  <div id=\"df-ee50539c-3b5c-4f63-9eff-43e65b6ecebd\">\n",
              "    <div class=\"colab-df-container\">\n",
              "      <div>\n",
              "<style scoped>\n",
              "    .dataframe tbody tr th:only-of-type {\n",
              "        vertical-align: middle;\n",
              "    }\n",
              "\n",
              "    .dataframe tbody tr th {\n",
              "        vertical-align: top;\n",
              "    }\n",
              "\n",
              "    .dataframe thead th {\n",
              "        text-align: right;\n",
              "    }\n",
              "</style>\n",
              "<table border=\"1\" class=\"dataframe\">\n",
              "  <thead>\n",
              "    <tr style=\"text-align: right;\">\n",
              "      <th></th>\n",
              "      <th>IMPORTE</th>\n",
              "      <th>IVA</th>\n",
              "      <th>RET ISR</th>\n",
              "      <th>RET IVA</th>\n",
              "      <th>TOTAL MX</th>\n",
              "      <th>TOTAL SAT</th>\n",
              "    </tr>\n",
              "  </thead>\n",
              "  <tbody>\n",
              "    <tr>\n",
              "      <th>0</th>\n",
              "      <td>0.00</td>\n",
              "      <td>2248.28</td>\n",
              "      <td>0.0</td>\n",
              "      <td>0.0</td>\n",
              "      <td>2248.28</td>\n",
              "      <td>16300.00</td>\n",
              "    </tr>\n",
              "    <tr>\n",
              "      <th>1</th>\n",
              "      <td>490.00</td>\n",
              "      <td>78.40</td>\n",
              "      <td>0.0</td>\n",
              "      <td>0.0</td>\n",
              "      <td>568.40</td>\n",
              "      <td>568.40</td>\n",
              "    </tr>\n",
              "    <tr>\n",
              "      <th>2</th>\n",
              "      <td>195.00</td>\n",
              "      <td>31.20</td>\n",
              "      <td>0.0</td>\n",
              "      <td>0.0</td>\n",
              "      <td>226.20</td>\n",
              "      <td>226.20</td>\n",
              "    </tr>\n",
              "    <tr>\n",
              "      <th>3</th>\n",
              "      <td>10694.25</td>\n",
              "      <td>1711.08</td>\n",
              "      <td>0.0</td>\n",
              "      <td>0.0</td>\n",
              "      <td>12405.33</td>\n",
              "      <td>12405.33</td>\n",
              "    </tr>\n",
              "    <tr>\n",
              "      <th>4</th>\n",
              "      <td>0.00</td>\n",
              "      <td>399.00</td>\n",
              "      <td>0.0</td>\n",
              "      <td>0.0</td>\n",
              "      <td>0.00</td>\n",
              "      <td>0.00</td>\n",
              "    </tr>\n",
              "    <tr>\n",
              "      <th>...</th>\n",
              "      <td>...</td>\n",
              "      <td>...</td>\n",
              "      <td>...</td>\n",
              "      <td>...</td>\n",
              "      <td>...</td>\n",
              "      <td>...</td>\n",
              "    </tr>\n",
              "    <tr>\n",
              "      <th>3337</th>\n",
              "      <td>129.79</td>\n",
              "      <td>20.21</td>\n",
              "      <td>0.0</td>\n",
              "      <td>0.0</td>\n",
              "      <td>150.00</td>\n",
              "      <td>150.00</td>\n",
              "    </tr>\n",
              "    <tr>\n",
              "      <th>3338</th>\n",
              "      <td>2284.80</td>\n",
              "      <td>365.57</td>\n",
              "      <td>0.0</td>\n",
              "      <td>0.0</td>\n",
              "      <td>2650.37</td>\n",
              "      <td>2650.37</td>\n",
              "    </tr>\n",
              "    <tr>\n",
              "      <th>3339</th>\n",
              "      <td>163.79</td>\n",
              "      <td>26.21</td>\n",
              "      <td>0.0</td>\n",
              "      <td>0.0</td>\n",
              "      <td>190.00</td>\n",
              "      <td>190.00</td>\n",
              "    </tr>\n",
              "    <tr>\n",
              "      <th>3340</th>\n",
              "      <td>0.00</td>\n",
              "      <td>0.00</td>\n",
              "      <td>0.0</td>\n",
              "      <td>0.0</td>\n",
              "      <td>0.00</td>\n",
              "      <td>0.00</td>\n",
              "    </tr>\n",
              "    <tr>\n",
              "      <th>3341</th>\n",
              "      <td>14889.29</td>\n",
              "      <td>0.00</td>\n",
              "      <td>0.0</td>\n",
              "      <td>0.0</td>\n",
              "      <td>14889.29</td>\n",
              "      <td>14889.29</td>\n",
              "    </tr>\n",
              "  </tbody>\n",
              "</table>\n",
              "<p>3342 rows × 6 columns</p>\n",
              "</div>\n",
              "      <button class=\"colab-df-convert\" onclick=\"convertToInteractive('df-ee50539c-3b5c-4f63-9eff-43e65b6ecebd')\"\n",
              "              title=\"Convert this dataframe to an interactive table.\"\n",
              "              style=\"display:none;\">\n",
              "        \n",
              "  <svg xmlns=\"http://www.w3.org/2000/svg\" height=\"24px\"viewBox=\"0 0 24 24\"\n",
              "       width=\"24px\">\n",
              "    <path d=\"M0 0h24v24H0V0z\" fill=\"none\"/>\n",
              "    <path d=\"M18.56 5.44l.94 2.06.94-2.06 2.06-.94-2.06-.94-.94-2.06-.94 2.06-2.06.94zm-11 1L8.5 8.5l.94-2.06 2.06-.94-2.06-.94L8.5 2.5l-.94 2.06-2.06.94zm10 10l.94 2.06.94-2.06 2.06-.94-2.06-.94-.94-2.06-.94 2.06-2.06.94z\"/><path d=\"M17.41 7.96l-1.37-1.37c-.4-.4-.92-.59-1.43-.59-.52 0-1.04.2-1.43.59L10.3 9.45l-7.72 7.72c-.78.78-.78 2.05 0 2.83L4 21.41c.39.39.9.59 1.41.59.51 0 1.02-.2 1.41-.59l7.78-7.78 2.81-2.81c.8-.78.8-2.07 0-2.86zM5.41 20L4 18.59l7.72-7.72 1.47 1.35L5.41 20z\"/>\n",
              "  </svg>\n",
              "      </button>\n",
              "      \n",
              "  <style>\n",
              "    .colab-df-container {\n",
              "      display:flex;\n",
              "      flex-wrap:wrap;\n",
              "      gap: 12px;\n",
              "    }\n",
              "\n",
              "    .colab-df-convert {\n",
              "      background-color: #E8F0FE;\n",
              "      border: none;\n",
              "      border-radius: 50%;\n",
              "      cursor: pointer;\n",
              "      display: none;\n",
              "      fill: #1967D2;\n",
              "      height: 32px;\n",
              "      padding: 0 0 0 0;\n",
              "      width: 32px;\n",
              "    }\n",
              "\n",
              "    .colab-df-convert:hover {\n",
              "      background-color: #E2EBFA;\n",
              "      box-shadow: 0px 1px 2px rgba(60, 64, 67, 0.3), 0px 1px 3px 1px rgba(60, 64, 67, 0.15);\n",
              "      fill: #174EA6;\n",
              "    }\n",
              "\n",
              "    [theme=dark] .colab-df-convert {\n",
              "      background-color: #3B4455;\n",
              "      fill: #D2E3FC;\n",
              "    }\n",
              "\n",
              "    [theme=dark] .colab-df-convert:hover {\n",
              "      background-color: #434B5C;\n",
              "      box-shadow: 0px 1px 3px 1px rgba(0, 0, 0, 0.15);\n",
              "      filter: drop-shadow(0px 1px 2px rgba(0, 0, 0, 0.3));\n",
              "      fill: #FFFFFF;\n",
              "    }\n",
              "  </style>\n",
              "\n",
              "      <script>\n",
              "        const buttonEl =\n",
              "          document.querySelector('#df-ee50539c-3b5c-4f63-9eff-43e65b6ecebd button.colab-df-convert');\n",
              "        buttonEl.style.display =\n",
              "          google.colab.kernel.accessAllowed ? 'block' : 'none';\n",
              "\n",
              "        async function convertToInteractive(key) {\n",
              "          const element = document.querySelector('#df-ee50539c-3b5c-4f63-9eff-43e65b6ecebd');\n",
              "          const dataTable =\n",
              "            await google.colab.kernel.invokeFunction('convertToInteractive',\n",
              "                                                     [key], {});\n",
              "          if (!dataTable) return;\n",
              "\n",
              "          const docLinkHtml = 'Like what you see? Visit the ' +\n",
              "            '<a target=\"_blank\" href=https://colab.research.google.com/notebooks/data_table.ipynb>data table notebook</a>'\n",
              "            + ' to learn more about interactive tables.';\n",
              "          element.innerHTML = '';\n",
              "          dataTable['output_type'] = 'display_data';\n",
              "          await google.colab.output.renderOutput(dataTable, element);\n",
              "          const docLink = document.createElement('div');\n",
              "          docLink.innerHTML = docLinkHtml;\n",
              "          element.appendChild(docLink);\n",
              "        }\n",
              "      </script>\n",
              "    </div>\n",
              "  </div>\n",
              "  "
            ]
          },
          "metadata": {},
          "execution_count": 24
        }
      ]
    },
    {
      "cell_type": "code",
      "source": [
        "#Corroboramos valores nulos del dataframe LIMPIO\n",
        "valores_nulos=data_clean_2020.isnull().sum()\n",
        "valores_nulos"
      ],
      "metadata": {
        "colab": {
          "base_uri": "https://localhost:8080/"
        },
        "id": "ScODKF_Cxqvu",
        "outputId": "9d6d883e-3165-4419-df31-99acf80bf169"
      },
      "execution_count": 25,
      "outputs": [
        {
          "output_type": "execute_result",
          "data": {
            "text/plain": [
              "IMPORTE      0\n",
              "IVA          0\n",
              "RET ISR      0\n",
              "RET IVA      0\n",
              "TOTAL MX     0\n",
              "TOTAL SAT    0\n",
              "dtype: int64"
            ]
          },
          "metadata": {},
          "execution_count": 25
        }
      ]
    },
    {
      "cell_type": "code",
      "source": [
        "#Realizamos diagrama de caja o bigote de cada columna del dataframe\n",
        "fig = plt.figure(figsize =(15, 8))\n",
        "data_clean_2020.plot(kind='box', vert=False)\n",
        "plt.title(\"Valores Atípicos del Dataframe\")\n",
        "plt.show() #dibujamos el diagrama"
      ],
      "metadata": {
        "colab": {
          "base_uri": "https://localhost:8080/",
          "height": 470
        },
        "id": "--oKFzS4xwUM",
        "outputId": "dc59d0d4-f57d-433d-d480-579032d54f33"
      },
      "execution_count": 26,
      "outputs": [
        {
          "output_type": "display_data",
          "data": {
            "text/plain": [
              "<Figure size 1500x800 with 0 Axes>"
            ]
          },
          "metadata": {}
        },
        {
          "output_type": "display_data",
          "data": {
            "text/plain": [
              "<Figure size 640x480 with 1 Axes>"
            ],
            "image/png": "[encoded data removed]"
          },
          "metadata": {}
        }
      ]
    },
    {
      "cell_type": "markdown",
      "source": [
        "### Rango intercuartilico "
      ],
      "metadata": {
        "id": "BjYugo7uyEWX"
      }
    },
    {
      "cell_type": "code",
      "source": [
        "#Método aplicando Cuartiles. Encuentro cuartiles 0.25 y 0.75\n",
        "y = gastos20_c\n",
        "\n",
        "percentile25=y.quantile(0.25) #Q1\n",
        "percentile75=y.quantile(0.75) #Q3\n",
        "iqr= percentile75 - percentile25\n",
        "\n",
        "Limite_Superior_iqr= percentile75 + 1.5*iqr\n",
        "Limite_Inferior_iqr= percentile25 - 1.5*iqr\n",
        "print(\"Limite superior permitido\", Limite_Superior_iqr)\n",
        "print(\"Limite inferior permitido\", Limite_Inferior_iqr)\n",
        "\n",
        "#Encontramos Outliers del Dataframe\n",
        "outliers_iqr= gastos20_c[(y>Limite_Superior_iqr)|(y<Limite_Inferior_iqr)]\n",
        "outliers_iqr\n",
        "\n",
        "#Obtenemos datos limpios del Dataframe\n",
        "data3_iqr= gastos20_c[(y<=Limite_Superior_iqr)&(y>=Limite_Inferior_iqr)]\n",
        "data3_iqr\n",
        "\n",
        "#Reemplazamos valores atípicos (nulos) del dataframe con \"mean\"\n",
        "#Realizamos una copia del dataframe\n",
        "data5_iqr = data3_iqr.copy()\n",
        "data_clean = data5_iqr.fillna(round(data3_iqr.mean(),1))\n",
        "data_clean"
      ],
      "metadata": {
        "id": "2x4bnAZGyQ_6"
      },
      "execution_count": null,
      "outputs": []
    },
    {
      "cell_type": "code",
      "source": [
        "#Corroboramos valores nulos del dataframe LIMPIO\n",
        "valores_nulos = data_clean.isnull().sum()\n",
        "valores_nulos"
      ],
      "metadata": {
        "colab": {
          "base_uri": "https://localhost:8080/"
        },
        "id": "jYWUWgoYz2jM",
        "outputId": "0c584675-64e2-42a8-a2e1-7eeb17f9007e"
      },
      "execution_count": 33,
      "outputs": [
        {
          "output_type": "execute_result",
          "data": {
            "text/plain": [
              "IMPORTE      0\n",
              "IVA          0\n",
              "RET ISR      0\n",
              "RET IVA      0\n",
              "TOTAL MX     0\n",
              "TOTAL SAT    0\n",
              "dtype: int64"
            ]
          },
          "metadata": {},
          "execution_count": 33
        }
      ]
    },
    {
      "cell_type": "markdown",
      "source": [
        "# 2021"
      ],
      "metadata": {
        "id": "1dT65I4g0Ngb"
      }
    },
    {
      "cell_type": "code",
      "source": [
        "#Realizamos diagrama de caja o bigote de cada columna del dataframe\n",
        "fig = plt.figure(figsize =(15, 8))\n",
        "gastos21_c.plot(kind='box', vert=False)\n",
        "plt.title(\"Valores Atípicos del Dataframe\")\n",
        "plt.show() #dibujamos el diagrama"
      ],
      "metadata": {
        "colab": {
          "base_uri": "https://localhost:8080/",
          "height": 470
        },
        "id": "cNnHMr0m0hWc",
        "outputId": "e1a19ecf-6ce3-4e49-9c69-ef8d3818c11a"
      },
      "execution_count": 43,
      "outputs": [
        {
          "output_type": "display_data",
          "data": {
            "text/plain": [
              "<Figure size 1500x800 with 0 Axes>"
            ]
          },
          "metadata": {}
        },
        {
          "output_type": "display_data",
          "data": {
            "text/plain": [
              "<Figure size 640x480 with 1 Axes>"
            ],
            "image/png": "[encoded data removed]"
          },
          "metadata": {}
        }
      ]
    },
    {
      "cell_type": "markdown",
      "source": [
        "### Desviación estándar "
      ],
      "metadata": {
        "id": "wIe5yke80mlb"
      }
    },
    {
      "cell_type": "code",
      "source": [
        "#Método aplicando desviación estandar. Encuentro los valores extremos\n",
        "y=gastos21_c\n",
        "Limite_Superior= y.mean() + 3*y.std()\n",
        "Limite_Inferior= y.mean() - 3*y.std()\n",
        "print(\"Limite superior permitido\", Limite_Superior)\n",
        "print(\"Limite inferior permitido\", Limite_Inferior)\n",
        "\n",
        "#Encontramos Ouliers del Dataframe\n",
        "outliers= gastos21_c[(y>Limite_Superior)|(y<Limite_Inferior)]\n",
        "outliers\n",
        "\n",
        "#Obtenemos datos y los outliers se convierten en nulos en el DataFrame\n",
        "data3= gastos21_c[(y<=Limite_Superior)&(y>=Limite_Inferior)]\n",
        "data3\n",
        "\n",
        "#Corroboramos valores nulos del dataframe4\n",
        "valores_nulos=data3.isnull().sum()\n",
        "print(valores_nulos)\n",
        "\n",
        "#Reemplazamos valores atípicos (nulos) del dataframe con \"mean\"\n",
        "#Realizamos una copia del dataframe\n",
        "data_clean_2021 = data3.copy()\n",
        "data_clean_2021 = data_clean_2021.fillna(round(data3.mean(),1))\n",
        "data_clean_2021"
      ],
      "metadata": {
        "id": "2TExA5Bb0lY1"
      },
      "execution_count": null,
      "outputs": []
    },
    {
      "cell_type": "code",
      "source": [
        "#Corroboramos valores nulos del dataframe LIMPIO\n",
        "valores_nulos=data_clean_2021.isnull().sum()\n",
        "valores_nulos"
      ],
      "metadata": {
        "colab": {
          "base_uri": "https://localhost:8080/"
        },
        "id": "6bhpIM6E07B1",
        "outputId": "0914a5eb-2818-4d8c-dab6-55f605969fcd"
      },
      "execution_count": 42,
      "outputs": [
        {
          "output_type": "execute_result",
          "data": {
            "text/plain": [
              "TC           0\n",
              "IMPORTE      0\n",
              "IVA          0\n",
              "RET ISR      0\n",
              "RET IVA      0\n",
              "TOTAL MX     0\n",
              "TOTAL SAT    0\n",
              "dtype: int64"
            ]
          },
          "metadata": {},
          "execution_count": 42
        }
      ]
    },
    {
      "cell_type": "code",
      "source": [
        "#Realizamos diagrama de caja o bigote de cada columna del dataframe\n",
        "fig = plt.figure(figsize =(15, 8))\n",
        "data_clean_2021.plot(kind='box', vert=False)\n",
        "plt.title(\"Valores Atípicos del Dataframe\")\n",
        "plt.show() #dibujamos el diagrama"
      ],
      "metadata": {
        "colab": {
          "base_uri": "https://localhost:8080/",
          "height": 470
        },
        "id": "km6_7OY409bJ",
        "outputId": "d6e84d55-6ad5-4ce8-8b6d-be3b02e40045"
      },
      "execution_count": 44,
      "outputs": [
        {
          "output_type": "display_data",
          "data": {
            "text/plain": [
              "<Figure size 1500x800 with 0 Axes>"
            ]
          },
          "metadata": {}
        },
        {
          "output_type": "display_data",
          "data": {
            "text/plain": [
              "<Figure size 640x480 with 1 Axes>"
            ],
            "image/png": "[encoded data removed]"
          },
          "metadata": {}
        }
      ]
    },
    {
      "cell_type": "markdown",
      "source": [
        "### Rango intercuartílico "
      ],
      "metadata": {
        "id": "_SOR2euP1DC0"
      }
    },
    {
      "cell_type": "code",
      "source": [
        "#Método aplicando Cuartiles. Encuentro cuartiles 0.25 y 0.75\n",
        "y = gastos21_c\n",
        "\n",
        "percentile25=y.quantile(0.25) #Q1\n",
        "percentile75=y.quantile(0.75) #Q3\n",
        "iqr= percentile75 - percentile25\n",
        "\n",
        "Limite_Superior_iqr= percentile75 + 1.5*iqr\n",
        "Limite_Inferior_iqr= percentile25 - 1.5*iqr\n",
        "print(\"Limite superior permitido\", Limite_Superior_iqr)\n",
        "print(\"Limite inferior permitido\", Limite_Inferior_iqr)\n",
        "\n",
        "#Encontramos Outliers del Dataframe\n",
        "outliers_iqr= gastos21_c[(y>Limite_Superior_iqr)|(y<Limite_Inferior_iqr)]\n",
        "outliers_iqr\n",
        "\n",
        "#Obtenemos datos limpios del Dataframe\n",
        "data3_iqr= gastos21_c[(y<=Limite_Superior_iqr)&(y>=Limite_Inferior_iqr)]\n",
        "data3_iqr\n",
        "\n",
        "#Reemplazamos valores atípicos (nulos) del dataframe con \"mean\"\n",
        "#Realizamos una copia del dataframe\n",
        "data5_iqr = data3_iqr.copy()\n",
        "data_clean_1 = data5_iqr.fillna(round(data3_iqr.mean(),1))\n",
        "data_clean_1"
      ],
      "metadata": {
        "colab": {
          "base_uri": "https://localhost:8080/",
          "height": 701
        },
        "id": "HW-TF_PX140-",
        "outputId": "fc7a37e1-0d92-40b4-e8d9-e3bc73aa5dac"
      },
      "execution_count": 45,
      "outputs": [
        {
          "output_type": "stream",
          "name": "stdout",
          "text": [
            "Limite superior permitido TC               1.0000\n",
            "IMPORTE      10127.7125\n",
            "IVA           1381.4750\n",
            "RET ISR          0.0000\n",
            "RET IVA          0.0000\n",
            "TOTAL MX     11580.2750\n",
            "TOTAL SAT    11456.0225\n",
            "dtype: float64\n",
            "Limite inferior permitido TC              1.0000\n",
            "IMPORTE     -6076.6275\n",
            "IVA          -828.8850\n",
            "RET ISR         0.0000\n",
            "RET IVA         0.0000\n",
            "TOTAL MX    -6948.1650\n",
            "TOTAL SAT   -6818.3175\n",
            "dtype: float64\n"
          ]
        },
        {
          "output_type": "execute_result",
          "data": {
            "text/plain": [
              "       TC  IMPORTE     IVA  RET ISR  RET IVA  TOTAL MX  TOTAL SAT\n",
              "0     1.0   490.00   78.40      0.0      0.0     568.4      568.4\n",
              "1     1.0   345.00   55.20      0.0      0.0     400.2      400.2\n",
              "2     1.0  3447.41  551.59      0.0      0.0    3999.0     3999.0\n",
              "3     1.0  5551.38  888.22      0.0      0.0    6439.6     6439.6\n",
              "4     1.0  5551.98  888.32      0.0      0.0    6440.3     6440.3\n",
              "...   ...      ...     ...      ...      ...       ...        ...\n",
              "3030  1.0     0.00    0.00      0.0      0.0       0.0        0.0\n",
              "3031  1.0     0.00    0.00      0.0      0.0       0.0        0.0\n",
              "3032  1.0  1699.50  705.58      0.0      0.0    1903.4     1910.9\n",
              "3033  1.0     0.00    0.00      0.0      0.0       0.0        0.0\n",
              "3034  1.0  1699.50    0.00      0.0      0.0    1903.4     1910.9\n",
              "\n",
              "[3035 rows x 7 columns]"
            ],
            "text/html": [
              "\n",
              "  <div id=\"df-0cd830cf-48aa-4e09-a597-10e152ce3c41\">\n",
              "    <div class=\"colab-df-container\">\n",
              "      <div>\n",
              "<style scoped>\n",
              "    .dataframe tbody tr th:only-of-type {\n",
              "        vertical-align: middle;\n",
              "    }\n",
              "\n",
              "    .dataframe tbody tr th {\n",
              "        vertical-align: top;\n",
              "    }\n",
              "\n",
              "    .dataframe thead th {\n",
              "        text-align: right;\n",
              "    }\n",
              "</style>\n",
              "<table border=\"1\" class=\"dataframe\">\n",
              "  <thead>\n",
              "    <tr style=\"text-align: right;\">\n",
              "      <th></th>\n",
              "      <th>TC</th>\n",
              "      <th>IMPORTE</th>\n",
              "      <th>IVA</th>\n",
              "      <th>RET ISR</th>\n",
              "      <th>RET IVA</th>\n",
              "      <th>TOTAL MX</th>\n",
              "      <th>TOTAL SAT</th>\n",
              "    </tr>\n",
              "  </thead>\n",
              "  <tbody>\n",
              "    <tr>\n",
              "      <th>0</th>\n",
              "      <td>1.0</td>\n",
              "      <td>490.00</td>\n",
              "      <td>78.40</td>\n",
              "      <td>0.0</td>\n",
              "      <td>0.0</td>\n",
              "      <td>568.4</td>\n",
              "      <td>568.4</td>\n",
              "    </tr>\n",
              "    <tr>\n",
              "      <th>1</th>\n",
              "      <td>1.0</td>\n",
              "      <td>345.00</td>\n",
              "      <td>55.20</td>\n",
              "      <td>0.0</td>\n",
              "      <td>0.0</td>\n",
              "      <td>400.2</td>\n",
              "      <td>400.2</td>\n",
              "    </tr>\n",
              "    <tr>\n",
              "      <th>2</th>\n",
              "      <td>1.0</td>\n",
              "      <td>3447.41</td>\n",
              "      <td>551.59</td>\n",
              "      <td>0.0</td>\n",
              "      <td>0.0</td>\n",
              "      <td>3999.0</td>\n",
              "      <td>3999.0</td>\n",
              "    </tr>\n",
              "    <tr>\n",
              "      <th>3</th>\n",
              "      <td>1.0</td>\n",
              "      <td>5551.38</td>\n",
              "      <td>888.22</td>\n",
              "      <td>0.0</td>\n",
              "      <td>0.0</td>\n",
              "      <td>6439.6</td>\n",
              "      <td>6439.6</td>\n",
              "    </tr>\n",
              "    <tr>\n",
              "      <th>4</th>\n",
              "      <td>1.0</td>\n",
              "      <td>5551.98</td>\n",
              "      <td>888.32</td>\n",
              "      <td>0.0</td>\n",
              "      <td>0.0</td>\n",
              "      <td>6440.3</td>\n",
              "      <td>6440.3</td>\n",
              "    </tr>\n",
              "    <tr>\n",
              "      <th>...</th>\n",
              "      <td>...</td>\n",
              "      <td>...</td>\n",
              "      <td>...</td>\n",
              "      <td>...</td>\n",
              "      <td>...</td>\n",
              "      <td>...</td>\n",
              "      <td>...</td>\n",
              "    </tr>\n",
              "    <tr>\n",
              "      <th>3030</th>\n",
              "      <td>1.0</td>\n",
              "      <td>0.00</td>\n",
              "      <td>0.00</td>\n",
              "      <td>0.0</td>\n",
              "      <td>0.0</td>\n",
              "      <td>0.0</td>\n",
              "      <td>0.0</td>\n",
              "    </tr>\n",
              "    <tr>\n",
              "      <th>3031</th>\n",
              "      <td>1.0</td>\n",
              "      <td>0.00</td>\n",
              "      <td>0.00</td>\n",
              "      <td>0.0</td>\n",
              "      <td>0.0</td>\n",
              "      <td>0.0</td>\n",
              "      <td>0.0</td>\n",
              "    </tr>\n",
              "    <tr>\n",
              "      <th>3032</th>\n",
              "      <td>1.0</td>\n",
              "      <td>1699.50</td>\n",
              "      <td>705.58</td>\n",
              "      <td>0.0</td>\n",
              "      <td>0.0</td>\n",
              "      <td>1903.4</td>\n",
              "      <td>1910.9</td>\n",
              "    </tr>\n",
              "    <tr>\n",
              "      <th>3033</th>\n",
              "      <td>1.0</td>\n",
              "      <td>0.00</td>\n",
              "      <td>0.00</td>\n",
              "      <td>0.0</td>\n",
              "      <td>0.0</td>\n",
              "      <td>0.0</td>\n",
              "      <td>0.0</td>\n",
              "    </tr>\n",
              "    <tr>\n",
              "      <th>3034</th>\n",
              "      <td>1.0</td>\n",
              "      <td>1699.50</td>\n",
              "      <td>0.00</td>\n",
              "      <td>0.0</td>\n",
              "      <td>0.0</td>\n",
              "      <td>1903.4</td>\n",
              "      <td>1910.9</td>\n",
              "    </tr>\n",
              "  </tbody>\n",
              "</table>\n",
              "<p>3035 rows × 7 columns</p>\n",
              "</div>\n",
              "      <button class=\"colab-df-convert\" onclick=\"convertToInteractive('df-0cd830cf-48aa-4e09-a597-10e152ce3c41')\"\n",
              "              title=\"Convert this dataframe to an interactive table.\"\n",
              "              style=\"display:none;\">\n",
              "        \n",
              "  <svg xmlns=\"http://www.w3.org/2000/svg\" height=\"24px\"viewBox=\"0 0 24 24\"\n",
              "       width=\"24px\">\n",
              "    <path d=\"M0 0h24v24H0V0z\" fill=\"none\"/>\n",
              "    <path d=\"M18.56 5.44l.94 2.06.94-2.06 2.06-.94-2.06-.94-.94-2.06-.94 2.06-2.06.94zm-11 1L8.5 8.5l.94-2.06 2.06-.94-2.06-.94L8.5 2.5l-.94 2.06-2.06.94zm10 10l.94 2.06.94-2.06 2.06-.94-2.06-.94-.94-2.06-.94 2.06-2.06.94z\"/><path d=\"M17.41 7.96l-1.37-1.37c-.4-.4-.92-.59-1.43-.59-.52 0-1.04.2-1.43.59L10.3 9.45l-7.72 7.72c-.78.78-.78 2.05 0 2.83L4 21.41c.39.39.9.59 1.41.59.51 0 1.02-.2 1.41-.59l7.78-7.78 2.81-2.81c.8-.78.8-2.07 0-2.86zM5.41 20L4 18.59l7.72-7.72 1.47 1.35L5.41 20z\"/>\n",
              "  </svg>\n",
              "      </button>\n",
              "      \n",
              "  <style>\n",
              "    .colab-df-container {\n",
              "      display:flex;\n",
              "      flex-wrap:wrap;\n",
              "      gap: 12px;\n",
              "    }\n",
              "\n",
              "    .colab-df-convert {\n",
              "      background-color: #E8F0FE;\n",
              "      border: none;\n",
              "      border-radius: 50%;\n",
              "      cursor: pointer;\n",
              "      display: none;\n",
              "      fill: #1967D2;\n",
              "      height: 32px;\n",
              "      padding: 0 0 0 0;\n",
              "      width: 32px;\n",
              "    }\n",
              "\n",
              "    .colab-df-convert:hover {\n",
              "      background-color: #E2EBFA;\n",
              "      box-shadow: 0px 1px 2px rgba(60, 64, 67, 0.3), 0px 1px 3px 1px rgba(60, 64, 67, 0.15);\n",
              "      fill: #174EA6;\n",
              "    }\n",
              "\n",
              "    [theme=dark] .colab-df-convert {\n",
              "      background-color: #3B4455;\n",
              "      fill: #D2E3FC;\n",
              "    }\n",
              "\n",
              "    [theme=dark] .colab-df-convert:hover {\n",
              "      background-color: #434B5C;\n",
              "      box-shadow: 0px 1px 3px 1px rgba(0, 0, 0, 0.15);\n",
              "      filter: drop-shadow(0px 1px 2px rgba(0, 0, 0, 0.3));\n",
              "      fill: #FFFFFF;\n",
              "    }\n",
              "  </style>\n",
              "\n",
              "      <script>\n",
              "        const buttonEl =\n",
              "          document.querySelector('#df-0cd830cf-48aa-4e09-a597-10e152ce3c41 button.colab-df-convert');\n",
              "        buttonEl.style.display =\n",
              "          google.colab.kernel.accessAllowed ? 'block' : 'none';\n",
              "\n",
              "        async function convertToInteractive(key) {\n",
              "          const element = document.querySelector('#df-0cd830cf-48aa-4e09-a597-10e152ce3c41');\n",
              "          const dataTable =\n",
              "            await google.colab.kernel.invokeFunction('convertToInteractive',\n",
              "                                                     [key], {});\n",
              "          if (!dataTable) return;\n",
              "\n",
              "          const docLinkHtml = 'Like what you see? Visit the ' +\n",
              "            '<a target=\"_blank\" href=https://colab.research.google.com/notebooks/data_table.ipynb>data table notebook</a>'\n",
              "            + ' to learn more about interactive tables.';\n",
              "          element.innerHTML = '';\n",
              "          dataTable['output_type'] = 'display_data';\n",
              "          await google.colab.output.renderOutput(dataTable, element);\n",
              "          const docLink = document.createElement('div');\n",
              "          docLink.innerHTML = docLinkHtml;\n",
              "          element.appendChild(docLink);\n",
              "        }\n",
              "      </script>\n",
              "    </div>\n",
              "  </div>\n",
              "  "
            ]
          },
          "metadata": {},
          "execution_count": 45
        }
      ]
    },
    {
      "cell_type": "code",
      "source": [
        "#Corroboramos valores nulos del dataframe LIMPIO\n",
        "valores_nulos = data_clean_1.isnull().sum()\n",
        "valores_nulos"
      ],
      "metadata": {
        "colab": {
          "base_uri": "https://localhost:8080/"
        },
        "id": "4oCIIiYx3P0L",
        "outputId": "9eb78b86-1dcd-4ded-8ab8-3bee160a3ab6"
      },
      "execution_count": 47,
      "outputs": [
        {
          "output_type": "execute_result",
          "data": {
            "text/plain": [
              "TC           0\n",
              "IMPORTE      0\n",
              "IVA          0\n",
              "RET ISR      0\n",
              "RET IVA      0\n",
              "TOTAL MX     0\n",
              "TOTAL SAT    0\n",
              "dtype: int64"
            ]
          },
          "metadata": {},
          "execution_count": 47
        }
      ]
    },
    {
      "cell_type": "markdown",
      "source": [
        "# 2022"
      ],
      "metadata": {
        "id": "G71P5Gu33RXw"
      }
    },
    {
      "cell_type": "code",
      "source": [
        "#Realizamos diagrama de caja o bigote de cada columna del dataframe\n",
        "fig = plt.figure(figsize =(15, 8))\n",
        "gastos22_c.plot(kind='box', vert=False)\n",
        "plt.title(\"Valores Atípicos del Dataframe\")\n",
        "plt.show() #dibujamos el diagrama"
      ],
      "metadata": {
        "colab": {
          "base_uri": "https://localhost:8080/",
          "height": 470
        },
        "id": "xJOHO2pP3Xit",
        "outputId": "6677ac4f-5340-413f-cdb6-25ad53a0e71e"
      },
      "execution_count": 48,
      "outputs": [
        {
          "output_type": "display_data",
          "data": {
            "text/plain": [
              "<Figure size 1500x800 with 0 Axes>"
            ]
          },
          "metadata": {}
        },
        {
          "output_type": "display_data",
          "data": {
            "text/plain": [
              "<Figure size 640x480 with 1 Axes>"
            ],
            "image/png": "[encoded data removed]"
          },
          "metadata": {}
        }
      ]
    },
    {
      "cell_type": "markdown",
      "source": [
        "### Desviación estándar "
      ],
      "metadata": {
        "id": "IT9CdX7h3fwW"
      }
    },
    {
      "cell_type": "code",
      "source": [
        "#Método aplicando desviación estandar. Encuentro los valores extremos\n",
        "y=gastos22_c\n",
        "Limite_Superior= y.mean() + 3*y.std()\n",
        "Limite_Inferior= y.mean() - 3*y.std()\n",
        "print(\"Limite superior permitido\", Limite_Superior)\n",
        "print(\"Limite inferior permitido\", Limite_Inferior)\n",
        "\n",
        "#Encontramos Ouliers del Dataframe\n",
        "outliers= gastos22_c[(y>Limite_Superior)|(y<Limite_Inferior)]\n",
        "outliers\n",
        "\n",
        "#Obtenemos datos y los outliers se convierten en nulos en el DataFrame\n",
        "data3= gastos22_c[(y<=Limite_Superior)&(y>=Limite_Inferior)]\n",
        "data3\n",
        "\n",
        "#Corroboramos valores nulos del dataframe4\n",
        "valores_nulos=data3.isnull().sum()\n",
        "print(valores_nulos)\n",
        "\n",
        "#Reemplazamos valores atípicos (nulos) del dataframe con \"mean\"\n",
        "#Realizamos una copia del dataframe\n",
        "data_clean_2022 = data3.copy()\n",
        "data_clean_2022 = data_clean_2022.fillna(round(data3.mean(),1))\n",
        "data_clean_2022"
      ],
      "metadata": {
        "id": "6krFqk0G3eIl"
      },
      "execution_count": null,
      "outputs": []
    },
    {
      "cell_type": "code",
      "source": [
        "#Corroboramos valores nulos del dataframe LIMPIO\n",
        "valores_nulos=data_clean_2022.isnull().sum()\n",
        "valores_nulos"
      ],
      "metadata": {
        "colab": {
          "base_uri": "https://localhost:8080/"
        },
        "id": "Iwig4ei7309H",
        "outputId": "dd60ed69-add6-43f2-bf3d-d9725186ee02"
      },
      "execution_count": 51,
      "outputs": [
        {
          "output_type": "execute_result",
          "data": {
            "text/plain": [
              "TC           0\n",
              "IMPORTE      0\n",
              "IVA          0\n",
              "RET ISR      0\n",
              "RET IVA      0\n",
              "TOTAL MX     0\n",
              "TOTAL SAT    0\n",
              "dtype: int64"
            ]
          },
          "metadata": {},
          "execution_count": 51
        }
      ]
    },
    {
      "cell_type": "code",
      "source": [
        "#Realizamos diagrama de caja o bigote de cada columna del dataframe\n",
        "fig = plt.figure(figsize =(15, 8))\n",
        "data_clean_2022.plot(kind='box', vert=False)\n",
        "plt.title(\"Valores Atípicos del Dataframe\")\n",
        "plt.show() #dibujamos el diagrama"
      ],
      "metadata": {
        "colab": {
          "base_uri": "https://localhost:8080/",
          "height": 470
        },
        "id": "jNiL8zb534Mp",
        "outputId": "8f448423-3cf4-40ce-e63c-2f566f4ea552"
      },
      "execution_count": 52,
      "outputs": [
        {
          "output_type": "display_data",
          "data": {
            "text/plain": [
              "<Figure size 1500x800 with 0 Axes>"
            ]
          },
          "metadata": {}
        },
        {
          "output_type": "display_data",
          "data": {
            "text/plain": [
              "<Figure size 640x480 with 1 Axes>"
            ],
            "image/png": "[encoded data removed]"
          },
          "metadata": {}
        }
      ]
    },
    {
      "cell_type": "markdown",
      "source": [
        "### Rango intercuartílico "
      ],
      "metadata": {
        "id": "sI8TrzPE3-Jf"
      }
    },
    {
      "cell_type": "code",
      "source": [
        "#Método aplicando Cuartiles. Encuentro cuartiles 0.25 y 0.75\n",
        "y = gastos22_c\n",
        "\n",
        "percentile25=y.quantile(0.25) #Q1\n",
        "percentile75=y.quantile(0.75) #Q3\n",
        "iqr= percentile75 - percentile25\n",
        "\n",
        "Limite_Superior_iqr= percentile75 + 1.5*iqr\n",
        "Limite_Inferior_iqr= percentile25 - 1.5*iqr\n",
        "print(\"Limite superior permitido\", Limite_Superior_iqr)\n",
        "print(\"Limite inferior permitido\", Limite_Inferior_iqr)\n",
        "\n",
        "#Encontramos Outliers del Dataframe\n",
        "outliers_iqr= gastos22_c[(y>Limite_Superior_iqr)|(y<Limite_Inferior_iqr)]\n",
        "outliers_iqr\n",
        "\n",
        "#Obtenemos datos limpios del Dataframe\n",
        "data3_iqr= gastos22_c[(y<=Limite_Superior_iqr)&(y>=Limite_Inferior_iqr)]\n",
        "data3_iqr\n",
        "\n",
        "#Reemplazamos valores atípicos (nulos) del dataframe con \"mean\"\n",
        "#Realizamos una copia del dataframe\n",
        "data5_iqr = data3_iqr.copy()\n",
        "data_clean_2 = data5_iqr.fillna(round(data3_iqr.mean(),1))\n",
        "data_clean_2"
      ],
      "metadata": {
        "id": "ffu7WaN_4EYE"
      },
      "execution_count": null,
      "outputs": []
    },
    {
      "cell_type": "code",
      "source": [
        "#Corroboramos valores nulos del dataframe LIMPIO\n",
        "valores_nulos = data_clean_2.isnull().sum()\n",
        "valores_nulos"
      ],
      "metadata": {
        "colab": {
          "base_uri": "https://localhost:8080/"
        },
        "id": "B8k_UlZ24U0j",
        "outputId": "7b015334-e88e-4444-fd4f-4700d157c967"
      },
      "execution_count": 54,
      "outputs": [
        {
          "output_type": "execute_result",
          "data": {
            "text/plain": [
              "TC           0\n",
              "IMPORTE      0\n",
              "IVA          0\n",
              "RET ISR      0\n",
              "RET IVA      0\n",
              "TOTAL MX     0\n",
              "TOTAL SAT    0\n",
              "dtype: int64"
            ]
          },
          "metadata": {},
          "execution_count": 54
        }
      ]
    },
    {
      "cell_type": "markdown",
      "source": [
        "# 2023 \n",
        "\n"
      ],
      "metadata": {
        "id": "eevnToc-4f34"
      }
    },
    {
      "cell_type": "code",
      "source": [
        "#Realizamos diagrama de caja o bigote de cada columna del dataframe\n",
        "fig = plt.figure(figsize =(15, 8))\n",
        "gastos23_c.plot(kind='box', vert=False)\n",
        "plt.title(\"Valores Atípicos del Dataframe\")\n",
        "plt.show() #dibujamos el diagrama"
      ],
      "metadata": {
        "colab": {
          "base_uri": "https://localhost:8080/",
          "height": 470
        },
        "id": "5m_boFXU4npn",
        "outputId": "095196b8-c63e-4605-ef94-dbdd85d08613"
      },
      "execution_count": 55,
      "outputs": [
        {
          "output_type": "display_data",
          "data": {
            "text/plain": [
              "<Figure size 1500x800 with 0 Axes>"
            ]
          },
          "metadata": {}
        },
        {
          "output_type": "display_data",
          "data": {
            "text/plain": [
              "<Figure size 640x480 with 1 Axes>"
            ],
            "image/png": "[encoded data removed]"
          },
          "metadata": {}
        }
      ]
    },
    {
      "cell_type": "markdown",
      "source": [
        "### Desviación estándar "
      ],
      "metadata": {
        "id": "W1Z06-mT4rv1"
      }
    },
    {
      "cell_type": "code",
      "source": [
        "#Método aplicando desviación estandar. Encuentro los valores extremos\n",
        "y=gastos23_c\n",
        "Limite_Superior= y.mean() + 3*y.std()\n",
        "Limite_Inferior= y.mean() - 3*y.std()\n",
        "print(\"Limite superior permitido\", Limite_Superior)\n",
        "print(\"Limite inferior permitido\", Limite_Inferior)\n",
        "\n",
        "#Encontramos Ouliers del Dataframe\n",
        "outliers= gastos23_c[(y>Limite_Superior)|(y<Limite_Inferior)]\n",
        "outliers\n",
        "\n",
        "#Obtenemos datos y los outliers se convierten en nulos en el DataFrame\n",
        "data3= gastos23_c[(y<=Limite_Superior)&(y>=Limite_Inferior)]\n",
        "data3\n",
        "\n",
        "#Corroboramos valores nulos del dataframe4\n",
        "valores_nulos=data3.isnull().sum()\n",
        "print(valores_nulos)\n",
        "\n",
        "#Reemplazamos valores atípicos (nulos) del dataframe con \"mean\"\n",
        "#Realizamos una copia del dataframe\n",
        "data_clean_2023 = data3.copy()\n",
        "data_clean_2023 = data_clean_2023.fillna(round(data3.mean(),1))\n",
        "data_clean_2023"
      ],
      "metadata": {
        "id": "Bv1Fuuc_4vsl"
      },
      "execution_count": null,
      "outputs": []
    },
    {
      "cell_type": "code",
      "source": [
        "#Corroboramos valores nulos del dataframe LIMPIO\n",
        "valores_nulos=data_clean_2023.isnull().sum()\n",
        "valores_nulos"
      ],
      "metadata": {
        "colab": {
          "base_uri": "https://localhost:8080/"
        },
        "id": "3PdrUTD44_oG",
        "outputId": "6fa0ad79-f623-4ec3-ca46-8e0635be061a"
      },
      "execution_count": 57,
      "outputs": [
        {
          "output_type": "execute_result",
          "data": {
            "text/plain": [
              "TC           0\n",
              "Importe      0\n",
              "IVA          0\n",
              "RET ISR      0\n",
              "RET IVA      0\n",
              "TOTAL MX     0\n",
              "TOTAL SAT    0\n",
              "dtype: int64"
            ]
          },
          "metadata": {},
          "execution_count": 57
        }
      ]
    },
    {
      "cell_type": "code",
      "source": [
        "#Realizamos diagrama de caja o bigote de cada columna del dataframe\n",
        "fig = plt.figure(figsize =(15, 8))\n",
        "data_clean_2023.plot(kind='box', vert=False)\n",
        "plt.title(\"Valores Atípicos del Dataframe\")\n",
        "plt.show() #dibujamos el diagrama"
      ],
      "metadata": {
        "colab": {
          "base_uri": "https://localhost:8080/",
          "height": 470
        },
        "id": "143e6rQ55BQc",
        "outputId": "07c53d0c-7859-45b3-f7f2-587923d8dc14"
      },
      "execution_count": 58,
      "outputs": [
        {
          "output_type": "display_data",
          "data": {
            "text/plain": [
              "<Figure size 1500x800 with 0 Axes>"
            ]
          },
          "metadata": {}
        },
        {
          "output_type": "display_data",
          "data": {
            "text/plain": [
              "<Figure size 640x480 with 1 Axes>"
            ],
            "image/png": "[encoded data removed]"
          },
          "metadata": {}
        }
      ]
    },
    {
      "cell_type": "markdown",
      "source": [
        "### Rango intercuartílico "
      ],
      "metadata": {
        "id": "VD8sNJnf5kFX"
      }
    },
    {
      "cell_type": "code",
      "source": [
        "#Método aplicando Cuartiles. Encuentro cuartiles 0.25 y 0.75\n",
        "y = gastos23_c\n",
        "\n",
        "percentile25=y.quantile(0.25) #Q1\n",
        "percentile75=y.quantile(0.75) #Q3\n",
        "iqr= percentile75 - percentile25\n",
        "\n",
        "Limite_Superior_iqr= percentile75 + 1.5*iqr\n",
        "Limite_Inferior_iqr= percentile25 - 1.5*iqr\n",
        "print(\"Limite superior permitido\", Limite_Superior_iqr)\n",
        "print(\"Limite inferior permitido\", Limite_Inferior_iqr)\n",
        "\n",
        "#Encontramos Outliers del Dataframe\n",
        "outliers_iqr= gastos23_c[(y>Limite_Superior_iqr)|(y<Limite_Inferior_iqr)]\n",
        "outliers_iqr\n",
        "\n",
        "#Obtenemos datos limpios del Dataframe\n",
        "data3_iqr= gastos23_c[(y<=Limite_Superior_iqr)&(y>=Limite_Inferior_iqr)]\n",
        "data3_iqr\n",
        "\n",
        "#Reemplazamos valores atípicos (nulos) del dataframe con \"mean\"\n",
        "#Realizamos una copia del dataframe\n",
        "data5_iqr = data3_iqr.copy()\n",
        "data_clean_3 = data5_iqr.fillna(round(data3_iqr.mean(),1))\n",
        "data_clean_3"
      ],
      "metadata": {
        "id": "qIojpEdE5oA6"
      },
      "execution_count": null,
      "outputs": []
    },
    {
      "cell_type": "code",
      "source": [
        "#Corroboramos valores nulos del dataframe LIMPIO\n",
        "valores_nulos = data_clean_3.isnull().sum()\n",
        "valores_nulos"
      ],
      "metadata": {
        "colab": {
          "base_uri": "https://localhost:8080/"
        },
        "id": "WY3safAB59eU",
        "outputId": "4d794c85-e57f-4211-8f7f-bb56c6aab493"
      },
      "execution_count": 60,
      "outputs": [
        {
          "output_type": "execute_result",
          "data": {
            "text/plain": [
              "TC           0\n",
              "Importe      0\n",
              "IVA          0\n",
              "RET ISR      0\n",
              "RET IVA      0\n",
              "TOTAL MX     0\n",
              "TOTAL SAT    0\n",
              "dtype: int64"
            ]
          },
          "metadata": {},
          "execution_count": 60
        }
      ]
    },
    {
      "cell_type": "markdown",
      "source": [
        "# Conformar los dataframe finales "
      ],
      "metadata": {
        "id": "ekP8R3FO6AwG"
      }
    },
    {
      "cell_type": "code",
      "source": [
        "# 2020: Desviación estándar \n",
        "gastos_2020_std = pd.concat([data_clean_2020, gastos20_e], axis=1)\n",
        "gastos_2020_std.to_csv(\"gastos_2020_std.csv\")\n",
        "\n",
        "# 2021: Desviación estándar \n",
        "gastos_2021_std = pd.concat([data_clean_2021, gastos21_e], axis=1)\n",
        "gastos_2021_std.to_csv(\"gastos_2021_std.csv\")\n",
        "\n",
        "# 2022: Desviación estándar \n",
        "gastos_2022_std = pd.concat([data_clean_2022, gastos22_e], axis=1)\n",
        "gastos_2022_std.to_csv(\"gastos_2022_std.csv\")\n",
        "\n",
        "# 2023: Desviación estándar \n",
        "gastos_2023_std = pd.concat([data_clean_2023, gastos23_e], axis=1)\n",
        "gastos_2023_std.to_csv(\"gastos_2023_std.csv\")"
      ],
      "metadata": {
        "id": "2ZhB9J2o6GXP"
      },
      "execution_count": 67,
      "outputs": []
    },
    {
      "cell_type": "code",
      "source": [
        "# 2020: Rango intercuartílico \n",
        "gastos_2020_iqr = pd.concat([data_clean, gastos20_e], axis=1)\n",
        "gastos_2020_iqr.to_csv(\"gastos_2020_iqr.csv\")\n",
        "\n",
        "# 2021: Rango intercuartílico \n",
        "gastos_2021_iqr = pd.concat([data_clean_1, gastos21_e], axis=1)\n",
        "gastos_2021_iqr.to_csv(\"gastos_2021_iqr.csv\")\n",
        "# 2022: Rango intercuartílico \n",
        "gastos_2022_iqr = pd.concat([data_clean_2, gastos22_e], axis=1)\n",
        "gastos_2022_iqr.to_csv(\"gastos_2022_iqr.csv\")\n",
        "\n",
        "# 2023: Rango intercuartílico \n",
        "gastos_2023_iqr = pd.concat([data_clean_3, gastos23_e], axis=1)\n",
        "gastos_2023_iqr.to_csv(\"gastos_2023_iqr.csv\")"
      ],
      "metadata": {
        "id": "oQulPiwJ7Hc-"
      },
      "execution_count": 68,
      "outputs": []
    }
  ]
}